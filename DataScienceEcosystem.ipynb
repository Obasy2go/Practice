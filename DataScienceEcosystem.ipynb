{
 "cells": [
  {
   "cell_type": "markdown",
   "id": "38392fe9-418b-4d75-b03c-2e9d069e8431",
   "metadata": {},
   "source": [
    "# Data Science Tools and Ecosystem"
   ]
  },
  {
   "cell_type": "markdown",
   "id": "16f50ee7-0006-44d4-a6a7-34fabde3bb6a",
   "metadata": {},
   "source": [
    "In this notebook, Data Science Tools and Ecosystem are summarized."
   ]
  },
  {
   "cell_type": "markdown",
   "id": "b58ceccf-4e3a-4c6c-b0de-29e07b1b5a73",
   "metadata": {},
   "source": [
    "**Objectives:**\n",
    "* List popular languages for Data Science.\n",
    "* List commonly used libraries used by Data Scientists.\n",
    "* List Data Science Tools."
   ]
  },
  {
   "cell_type": "markdown",
   "id": "e62962bc-7d5e-4b58-8c43-20285b7de91d",
   "metadata": {},
   "source": [
    "Some of the popular languages that Data Scientists use are:\n",
    "1. Python\n",
    "2. SQL\n",
    "3. R\n",
    "4. JavaScript"
   ]
  },
  {
   "cell_type": "markdown",
   "id": "2b0f9f76-b304-4912-8124-ecc606c9b7d1",
   "metadata": {},
   "source": [
    "Some of the commonly used libraries used by Data Scientists include:\n",
    "1. Pandas\n",
    "2. NumPy\n",
    "3. Tensorflow\n",
    "4. SciPy"
   ]
  },
  {
   "cell_type": "markdown",
   "id": "e352db4a-9adf-4bae-973a-5849375f3c77",
   "metadata": {},
   "source": [
    "|Data Science Tools.|\n",
    "|-------------------|\n",
    "|RStudio|\n",
    "|Apache Spark|\n",
    "|TensorFlow|"
   ]
  },
  {
   "cell_type": "markdown",
   "id": "65c94cdf-1304-49c1-a9ec-5ca0f27329f3",
   "metadata": {},
   "source": [
    "### Below are a few examples of evaluating arithmetic expressions in Python."
   ]
  },
  {
   "cell_type": "code",
   "execution_count": 2,
   "id": "af71e498-f62d-4c2a-95e1-54a7d58c3da8",
   "metadata": {},
   "outputs": [
    {
     "data": {
      "text/plain": [
       "17"
      ]
     },
     "execution_count": 2,
     "metadata": {},
     "output_type": "execute_result"
    }
   ],
   "source": [
    " #This a simple arithmetic expression to mutiply then add integers.\n",
    "(3*4)+5"
   ]
  },
  {
   "cell_type": "code",
   "execution_count": 11,
   "id": "b3b57b7e-0bf0-413a-b674-58d041ec94ff",
   "metadata": {},
   "outputs": [
    {
     "name": "stdout",
     "output_type": "stream",
     "text": [
      "3.3333333333333335\n"
     ]
    }
   ],
   "source": [
    "# This will convert 200 minutes to hours by dividing by 60\n",
    "min = 60\n",
    "hr = 200/min\n",
    "print(hr)"
   ]
  },
  {
   "cell_type": "markdown",
   "id": "b2a29dc2-4a8b-490a-91a0-1ac3b00d1de2",
   "metadata": {},
   "source": [
    "## Author\n",
    "Qudus Shonibare"
   ]
  },
  {
   "cell_type": "markdown",
   "id": "fd23f5e2-136d-413a-8718-ff61fd2979fd",
   "metadata": {},
   "source": []
  }
 ],
 "metadata": {
  "kernelspec": {
   "display_name": "Python",
   "language": "python",
   "name": "conda-env-python-py"
  },
  "language_info": {
   "codemirror_mode": {
    "name": "ipython",
    "version": 3
   },
   "file_extension": ".py",
   "mimetype": "text/x-python",
   "name": "python",
   "nbconvert_exporter": "python",
   "pygments_lexer": "ipython3",
   "version": "3.7.12"
  }
 },
 "nbformat": 4,
 "nbformat_minor": 5
}
